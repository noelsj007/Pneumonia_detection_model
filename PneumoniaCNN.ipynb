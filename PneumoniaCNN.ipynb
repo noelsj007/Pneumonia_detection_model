{
 "cells": [
  {
   "cell_type": "code",
   "execution_count": 1,
   "id": "a934b883",
   "metadata": {},
   "outputs": [
    {
     "name": "stdout",
     "output_type": "stream",
     "text": [
      "Requirement already satisfied: opencv-python in /Users/noelsjacob/anaconda3/lib/python3.10/site-packages (4.8.0.74)\n",
      "Requirement already satisfied: numpy>=1.21.2 in /Users/noelsjacob/anaconda3/lib/python3.10/site-packages (from opencv-python) (1.22.3)\n",
      "Note: you may need to restart the kernel to use updated packages.\n"
     ]
    }
   ],
   "source": [
    "pip install opencv-python"
   ]
  },
  {
   "cell_type": "code",
   "execution_count": 2,
   "id": "3f762849",
   "metadata": {},
   "outputs": [],
   "source": [
    "import tensorflow as tf\n",
    "import seaborn as sns\n",
    "from PIL import Image\n",
    "import numpy as np\n",
    "import pandas as pd\n",
    "import os\n",
    "import cv2\n",
    "from glob import glob\n",
    "import matplotlib.pyplot as plt"
   ]
  },
  {
   "cell_type": "code",
   "execution_count": 3,
   "id": "8fb0706a",
   "metadata": {},
   "outputs": [
    {
     "name": "stdout",
     "output_type": "stream",
     "text": [
      "test          class                                         image\n",
      "0       NORMAL               ./test/NORMAL/IM-0031-0001.jpeg\n",
      "1       NORMAL               ./test/NORMAL/IM-0025-0001.jpeg\n",
      "2       NORMAL       ./test/NORMAL/NORMAL2-IM-0272-0001.jpeg\n",
      "3       NORMAL       ./test/NORMAL/NORMAL2-IM-0102-0001.jpeg\n",
      "4       NORMAL       ./test/NORMAL/NORMAL2-IM-0229-0001.jpeg\n",
      "..         ...                                           ...\n",
      "619  PNEUMONIA  ./test/PNEUMONIA/person120_bacteria_572.jpeg\n",
      "620  PNEUMONIA  ./test/PNEUMONIA/person171_bacteria_826.jpeg\n",
      "621  PNEUMONIA  ./test/PNEUMONIA/person109_bacteria_512.jpeg\n",
      "622  PNEUMONIA   ./test/PNEUMONIA/person83_bacteria_410.jpeg\n",
      "623  PNEUMONIA  ./test/PNEUMONIA/person112_bacteria_538.jpeg\n",
      "\n",
      "[624 rows x 2 columns]\n",
      "val         class                                          image\n",
      "0      NORMAL         ./val/NORMAL/NORMAL2-IM-1440-0001.jpeg\n",
      "1      NORMAL         ./val/NORMAL/NORMAL2-IM-1437-0001.jpeg\n",
      "2      NORMAL         ./val/NORMAL/NORMAL2-IM-1431-0001.jpeg\n",
      "3      NORMAL         ./val/NORMAL/NORMAL2-IM-1436-0001.jpeg\n",
      "4      NORMAL         ./val/NORMAL/NORMAL2-IM-1430-0001.jpeg\n",
      "5      NORMAL         ./val/NORMAL/NORMAL2-IM-1438-0001.jpeg\n",
      "6      NORMAL         ./val/NORMAL/NORMAL2-IM-1442-0001.jpeg\n",
      "7      NORMAL         ./val/NORMAL/NORMAL2-IM-1427-0001.jpeg\n",
      "8   PNEUMONIA  ./val/PNEUMONIA/person1950_bacteria_4881.jpeg\n",
      "9   PNEUMONIA  ./val/PNEUMONIA/person1951_bacteria_4882.jpeg\n",
      "10  PNEUMONIA  ./val/PNEUMONIA/person1952_bacteria_4883.jpeg\n",
      "11  PNEUMONIA  ./val/PNEUMONIA/person1946_bacteria_4874.jpeg\n",
      "12  PNEUMONIA  ./val/PNEUMONIA/person1947_bacteria_4876.jpeg\n",
      "13  PNEUMONIA  ./val/PNEUMONIA/person1946_bacteria_4875.jpeg\n",
      "14  PNEUMONIA  ./val/PNEUMONIA/person1949_bacteria_4880.jpeg\n",
      "15  PNEUMONIA  ./val/PNEUMONIA/person1954_bacteria_4886.jpeg\n",
      "train           class                                           image\n",
      "0        NORMAL        ./train/NORMAL/NORMAL2-IM-0927-0001.jpeg\n",
      "1        NORMAL        ./train/NORMAL/NORMAL2-IM-1056-0001.jpeg\n",
      "2        NORMAL                ./train/NORMAL/IM-0427-0001.jpeg\n",
      "3        NORMAL        ./train/NORMAL/NORMAL2-IM-1260-0001.jpeg\n",
      "4        NORMAL           ./train/NORMAL/IM-0656-0001-0001.jpeg\n",
      "...         ...                                             ...\n",
      "5211  PNEUMONIA      ./train/PNEUMONIA/person142_virus_288.jpeg\n",
      "5212  PNEUMONIA  ./train/PNEUMONIA/person364_bacteria_1659.jpeg\n",
      "5213  PNEUMONIA    ./train/PNEUMONIA/person1323_virus_2283.jpeg\n",
      "5214  PNEUMONIA     ./train/PNEUMONIA/person772_virus_1401.jpeg\n",
      "5215  PNEUMONIA     ./train/PNEUMONIA/person501_virus_1010.jpeg\n",
      "\n",
      "[5216 rows x 2 columns]\n"
     ]
    }
   ],
   "source": [
    "#define the main_path to extract the dataset\n",
    "main_path = './'\n",
    "\n",
    "#getting the train dataset from the folder\n",
    "train_normal = glob(os.path.join(main_path, 'train', 'NORMAL', '*.jpeg'))\n",
    "train_pneumonia = glob(os.path.join(main_path, 'train', 'PNEUMONIA', '*.jpeg'))\n",
    "\n",
    "#getting the test dataset\n",
    "test_normal = glob(os.path.join(main_path, 'test', 'NORMAL', '*.jpeg'))\n",
    "test_pneumonia = glob(os.path.join(main_path, 'test', 'PNEUMONIA', '*.jpeg'))\n",
    "\n",
    "#getting the validation dataset\n",
    "val_normal = glob(os.path.join(main_path, 'val', 'NORMAL', '*.jpeg'))\n",
    "val_pneumonia = glob(os.path.join(main_path, 'val', 'PNEUMONIA', '*.jpeg'))\n",
    "\n",
    "#creating dataframe with each dataset for processing\n",
    "df_train = pd.DataFrame({\n",
    "    'class':['NORMAL'] * len(train_normal) + ['PNEUMONIA'] * len(train_pneumonia),\n",
    "    'image': train_normal + train_pneumonia\n",
    "})\n",
    "\n",
    "df_test = pd.DataFrame({\n",
    "    'class':['NORMAL'] * len(test_normal) + ['PNEUMONIA'] * len(test_pneumonia),\n",
    "    'image': test_normal + test_pneumonia\n",
    "})\n",
    "\n",
    "df_val = pd.DataFrame({\n",
    "    'class':['NORMAL'] * len(val_normal) + ['PNEUMONIA'] * len(val_pneumonia),\n",
    "    'image': val_normal + val_pneumonia\n",
    "})\n",
    "\n",
    "#validating the datafram\n",
    "print('test', df_test)\n",
    "print('val',df_val)\n",
    "print('train', df_train)"
   ]
  },
  {
   "cell_type": "code",
   "execution_count": 4,
   "id": "635580cd",
   "metadata": {},
   "outputs": [],
   "source": [
    "#Hyper parameter tuning with the validation set concat the validation set and train set\n",
    "df_train = pd.concat([df_train, df_val], axis=0)\n",
    "#reset the index for the train dataset\n",
    "df_train = df_train.reset_index(drop=True)"
   ]
  },
  {
   "cell_type": "code",
   "execution_count": 5,
   "id": "f685bfb9",
   "metadata": {},
   "outputs": [
    {
     "data": {
      "image/png": "[encoded data removed]",
      "text/plain": [
       "<Figure size 400x300 with 1 Axes>"
      ]
     },
     "metadata": {},
     "output_type": "display_data"
    },
    {
     "data": {
      "image/png": "[encoded data removed]",
      "text/plain": [
       "<Figure size 400x300 with 1 Axes>"
      ]
     },
     "metadata": {},
     "output_type": "display_data"
    }
   ],
   "source": [
    "#plotting the target distribution on the data set\n",
    "\n",
    "sns.set_palette(\"bright\")\n",
    "sns.set_style(\"whitegrid\")\n",
    "\n",
    "#ploting the target distribution for the trainset\n",
    "plt.figure(figsize=(4,3))\n",
    "sns.countplot(data=df_train, x='class')\n",
    "plt.title('Target Distribution - Test Set')\n",
    "plt.xlabel('class')\n",
    "plt.ylabel('Count')\n",
    "plt.show()\n",
    "\n",
    "#ploting the target distribution for the validationset\n",
    "plt.figure(figsize=(4,3))\n",
    "sns.countplot(data=df_val, x='class')\n",
    "plt.title('Target Distribution - Validation Set')\n",
    "plt.xlabel('Class')\n",
    "plt.ylabel('Count')\n",
    "plt.show()"
   ]
  },
  {
   "cell_type": "code",
   "execution_count": 6,
   "id": "a1a7db75",
   "metadata": {},
   "outputs": [],
   "source": [
    "\"\"\"\n",
    "Parameter Tuning: splitting the training dataframe into validation and trainding dataframe with test_size=0.2\n",
    "and train_size default\n",
    "\"\"\"\n",
    "from sklearn.model_selection import train_test_split\n",
    "train_df, val_df = train_test_split(df_train, test_size=0.2, random_state=42, stratify=df_train['class'])"
   ]
  },
  {
   "cell_type": "code",
   "execution_count": 7,
   "id": "6d272b27",
   "metadata": {},
   "outputs": [
    {
     "name": "stdout",
     "output_type": "stream",
     "text": [
      "Found 4185 validated image filenames belonging to 2 classes.\n",
      "Found 1047 validated image filenames belonging to 2 classes.\n",
      "Found 624 validated image filenames belonging to 2 classes.\n"
     ]
    }
   ],
   "source": [
    "from tensorflow.keras.preprocessing.image import ImageDataGenerator\n",
    "\n",
    "# Define data generators\n",
    "train_datagen = ImageDataGenerator(\n",
    "    rescale=1./255,\n",
    "    shear_range=0.2,\n",
    "    zoom_range=0.2,\n",
    "    rotation_range=0.1,\n",
    "    width_shift_range=0.1,\n",
    "    height_shift_range=0.1,\n",
    "    horizontal_flip=True\n",
    ")\n",
    "\n",
    "val_datagen = ImageDataGenerator(rescale=1./255)  # Only rescale pixel values\n",
    "\n",
    "# Create data generators\n",
    "ds_train = train_datagen.flow_from_dataframe(\n",
    "    dataframe=train_df,\n",
    "    x_col='image',\n",
    "    y_col='class',\n",
    "    class_mode='binary',\n",
    "    target_size=(224, 224),\n",
    "    batch_size=32\n",
    ")\n",
    "\n",
    "ds_val = val_datagen.flow_from_dataframe(\n",
    "    dataframe=val_df,\n",
    "    x_col='image',\n",
    "    y_col='class',\n",
    "    class_mode='binary',\n",
    "    target_size=(224, 224),\n",
    "    batch_size=32\n",
    ")\n",
    "\n",
    "ds_test = val_datagen.flow_from_dataframe(\n",
    "    dataframe=df_test,\n",
    "    x_col='image',\n",
    "    y_col='class',\n",
    "    class_mode='binary',\n",
    "    target_size=(224, 224),\n",
    "    batch_size=1\n",
    ")\n",
    "\n",
    "#reshaped the dataset whcih can fit into the model input shape"
   ]
  },
  {
   "cell_type": "code",
   "execution_count": 8,
   "id": "3784c18d",
   "metadata": {},
   "outputs": [],
   "source": [
    "from tensorflow.keras.models import Sequential\n",
    "from tensorflow.keras.layers import Conv2D, BatchNormalization, MaxPooling2D, Flatten, Dense, Dropout\n",
    "\n",
    "def create_model():\n",
    "    model = Sequential()\n",
    "\n",
    "    model.add(Conv2D(32, (3, 3), strides=1, padding='valid', activation='relu', input_shape=(224, 224, 3)))\n",
    "    model.add(BatchNormalization())\n",
    "    model.add(MaxPooling2D((2, 2), strides=2, padding='valid'))\n",
    "\n",
    "    model.add(Conv2D(64, (3, 3), strides=1, padding='valid', activation='relu'))\n",
    "    model.add(Dropout(0.1))\n",
    "    model.add(BatchNormalization())\n",
    "    model.add(MaxPooling2D((2, 2), strides=2, padding='valid'))\n",
    "\n",
    "    model.add(Conv2D(64, (3, 3), strides=1, padding='valid', activation='relu'))\n",
    "    model.add(BatchNormalization())\n",
    "    model.add(MaxPooling2D((2, 2), strides=2, padding='valid'))\n",
    "\n",
    "    model.add(Conv2D(128, (3, 3), strides=1, padding='valid', activation='relu'))\n",
    "    model.add(Dropout(0.2))\n",
    "    model.add(BatchNormalization())\n",
    "    model.add(MaxPooling2D((2, 2), strides=2, padding='valid'))\n",
    "\n",
    "    model.add(Conv2D(256, (3, 3), strides=1, padding='valid', activation='relu'))\n",
    "    model.add(Dropout(0.2))\n",
    "    model.add(BatchNormalization())\n",
    "    model.add(MaxPooling2D((2, 2), strides=2, padding='valid'))\n",
    "\n",
    "    model.add(Flatten())\n",
    "    model.add(Dense(units=256, activation='relu'))\n",
    "    model.add(Dropout(0.2))\n",
    "    model.add(Dense(units=128, activation='relu'))\n",
    "    model.add(Dropout(0.2))\n",
    "    model.add(Dense(units=1, activation='sigmoid'))\n",
    "\n",
    "    return model"
   ]
  },
  {
   "cell_type": "code",
   "execution_count": 9,
   "id": "2a63fea1",
   "metadata": {},
   "outputs": [],
   "source": [
    "model = create_model()"
   ]
  },
  {
   "cell_type": "code",
   "execution_count": 10,
   "id": "6cae4988",
   "metadata": {},
   "outputs": [],
   "source": [
    "from tensorflow.keras.optimizers.legacy import Adam\n",
    "\n",
    "model.compile(\n",
    "    optimizer=Adam(learning_rate=3e-5),\n",
    "    loss='binary_crossentropy',\n",
    "    metrics=['binary_accuracy']\n",
    ")\n"
   ]
  },
  {
   "cell_type": "code",
   "execution_count": 11,
   "id": "13271d4d",
   "metadata": {},
   "outputs": [
    {
     "name": "stdout",
     "output_type": "stream",
     "text": [
      "Model: \"sequential\"\n",
      "_________________________________________________________________\n",
      " Layer (type)                Output Shape              Param #   \n",
      "=================================================================\n",
      " conv2d (Conv2D)             (None, 222, 222, 32)      896       \n",
      "                                                                 \n",
      " batch_normalization (Batch  (None, 222, 222, 32)      128       \n",
      " Normalization)                                                  \n",
      "                                                                 \n",
      " max_pooling2d (MaxPooling2  (None, 111, 111, 32)      0         \n",
      " D)                                                              \n",
      "                                                                 \n",
      " conv2d_1 (Conv2D)           (None, 109, 109, 64)      18496     \n",
      "                                                                 \n",
      " dropout (Dropout)           (None, 109, 109, 64)      0         \n",
      "                                                                 \n",
      " batch_normalization_1 (Bat  (None, 109, 109, 64)      256       \n",
      " chNormalization)                                                \n",
      "                                                                 \n",
      " max_pooling2d_1 (MaxPoolin  (None, 54, 54, 64)        0         \n",
      " g2D)                                                            \n",
      "                                                                 \n",
      " conv2d_2 (Conv2D)           (None, 52, 52, 64)        36928     \n",
      "                                                                 \n",
      " batch_normalization_2 (Bat  (None, 52, 52, 64)        256       \n",
      " chNormalization)                                                \n",
      "                                                                 \n",
      " max_pooling2d_2 (MaxPoolin  (None, 26, 26, 64)        0         \n",
      " g2D)                                                            \n",
      "                                                                 \n",
      " conv2d_3 (Conv2D)           (None, 24, 24, 128)       73856     \n",
      "                                                                 \n",
      " dropout_1 (Dropout)         (None, 24, 24, 128)       0         \n",
      "                                                                 \n",
      " batch_normalization_3 (Bat  (None, 24, 24, 128)       512       \n",
      " chNormalization)                                                \n",
      "                                                                 \n",
      " max_pooling2d_3 (MaxPoolin  (None, 12, 12, 128)       0         \n",
      " g2D)                                                            \n",
      "                                                                 \n",
      " conv2d_4 (Conv2D)           (None, 10, 10, 256)       295168    \n",
      "                                                                 \n",
      " dropout_2 (Dropout)         (None, 10, 10, 256)       0         \n",
      "                                                                 \n",
      " batch_normalization_4 (Bat  (None, 10, 10, 256)       1024      \n",
      " chNormalization)                                                \n",
      "                                                                 \n",
      " max_pooling2d_4 (MaxPoolin  (None, 5, 5, 256)         0         \n",
      " g2D)                                                            \n",
      "                                                                 \n",
      " flatten (Flatten)           (None, 6400)              0         \n",
      "                                                                 \n",
      " dense (Dense)               (None, 256)               1638656   \n",
      "                                                                 \n",
      " dropout_3 (Dropout)         (None, 256)               0         \n",
      "                                                                 \n",
      " dense_1 (Dense)             (None, 128)               32896     \n",
      "                                                                 \n",
      " dropout_4 (Dropout)         (None, 128)               0         \n",
      "                                                                 \n",
      " dense_2 (Dense)             (None, 1)                 129       \n",
      "                                                                 \n",
      "=================================================================\n",
      "Total params: 2099201 (8.01 MB)\n",
      "Trainable params: 2098113 (8.00 MB)\n",
      "Non-trainable params: 1088 (4.25 KB)\n",
      "_________________________________________________________________\n"
     ]
    }
   ],
   "source": [
    "model.summary()"
   ]
  },
  {
   "cell_type": "code",
   "execution_count": 12,
   "id": "62853c20",
   "metadata": {},
   "outputs": [],
   "source": [
    "#defining the earlystopping and the reducing learning rate\n",
    "\n",
    "from tensorflow.keras.callbacks import EarlyStopping ,ReduceLROnPlateau\n",
    "\n",
    "# Create the EarlyStopping callback\n",
    "early_stopping = EarlyStopping(monitor='val_loss', patience=5, min_delta=1e-7,restore_best_weights=True)\n",
    "plateau = ReduceLROnPlateau(monitor='val_loss',factor = 0.2,patience = 2,min_delt = 1e-7,cooldown = 0,verbose = 1)"
   ]
  },
  {
   "cell_type": "code",
   "execution_count": null,
   "id": "e0b2d7e1",
   "metadata": {},
   "outputs": [
    {
     "name": "stdout",
     "output_type": "stream",
     "text": [
      "Epoch 1/50\n"
     ]
    },
    {
     "name": "stderr",
     "output_type": "stream",
     "text": [
      "2023-07-18 10:24:48.066422: I tensorflow/core/common_runtime/executor.cc:1210] [/device:CPU:0] (DEBUG INFO) Executor start aborting (this does not indicate an error and you can ignore this message): INVALID_ARGUMENT: You must feed a value for placeholder tensor 'Placeholder/_0' with dtype int32\n",
      "\t [[{{node Placeholder/_0}}]]\n"
     ]
    },
    {
     "name": "stdout",
     "output_type": "stream",
     "text": [
      "131/130 [==============================] - ETA: 0s - loss: 0.4057 - binary_accuracy: 0.8234"
     ]
    },
    {
     "name": "stderr",
     "output_type": "stream",
     "text": [
      "2023-07-18 10:28:17.341593: I tensorflow/core/common_runtime/executor.cc:1210] [/device:CPU:0] (DEBUG INFO) Executor start aborting (this does not indicate an error and you can ignore this message): INVALID_ARGUMENT: You must feed a value for placeholder tensor 'Placeholder/_0' with dtype int32\n",
      "\t [[{{node Placeholder/_0}}]]\n"
     ]
    },
    {
     "name": "stdout",
     "output_type": "stream",
     "text": [
      "130/130 [==============================] - 223s 2s/step - loss: 0.4057 - binary_accuracy: 0.8234 - val_loss: 0.5880 - val_binary_accuracy: 0.7421 - lr: 3.0000e-05\n",
      "Epoch 2/50\n",
      " 29/130 [=====>........................] - ETA: 2:59 - loss: 0.2452 - binary_accuracy: 0.8933"
     ]
    }
   ],
   "source": [
    "# Train the model with early stopping\n",
    "history = model.fit(ds_train,\n",
    "                    batch_size = 32,\n",
    "                    epochs = 50,\n",
    "                    validation_data=ds_val,\n",
    "                    callbacks=[early_stopping, plateau],\n",
    "                    steps_per_epoch=(len(train_df)/32),\n",
    "                    validation_steps=(len(val_df)/32));"
   ]
  }
 ],
 "metadata": {
  "kernelspec": {
   "display_name": "Python 3 (ipykernel)",
   "language": "python",
   "name": "python3"
  },
  "language_info": {
   "codemirror_mode": {
    "name": "ipython",
    "version": 3
   },
   "file_extension": ".py",
   "mimetype": "text/x-python",
   "name": "python",
   "nbconvert_exporter": "python",
   "pygments_lexer": "ipython3",
   "version": "3.10.9"
  }
 },
 "nbformat": 4,
 "nbformat_minor": 5
}
