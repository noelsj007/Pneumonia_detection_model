{
  "nbformat": 4,
  "nbformat_minor": 0,
  "metadata": {
    "colab": {
      "provenance": [],
      "mount_file_id": "1L1SGwxdDvpQ2J6NjapnkCRHQsMYr-aj_",
      "authorship_tag": "ABX9TyMsQHwJmFU6RBa35kGp2FWK",
      "include_colab_link": true
    },
    "kernelspec": {
      "name": "python3",
      "display_name": "Python 3"
    },
    "language_info": {
      "name": "python"
    }
  },
  "cells": [
    {
      "cell_type": "markdown",
      "metadata": {
        "id": "view-in-github",
        "colab_type": "text"
      },
      "source": [
        "<a href=\"https://colab.research.google.com/github/noelsj007/Pneumonia_detection_model/blob/main/PneumoniaModel2.ipynb\" target=\"_parent\"><img src=\"https://colab.research.google.com/assets/colab-badge.svg\" alt=\"Open In Colab\"/></a>"
      ]
    },
    {
      "cell_type": "code",
      "execution_count": 1,
      "metadata": {
        "id": "0rmKw2jXsWFx"
      },
      "outputs": [],
      "source": [
        "import numpy as np\n",
        "import pandas as pd\n",
        "import matplotlib.pyplot as plt\n",
        "import seaborn as sns\n",
        "from sklearn.model_selection import train_test_split\n",
        "from sklearn.metrics import classification_report,confusion_matrix\n",
        "import tensorflow as tf\n",
        "from tensorflow.keras.preprocessing.image import ImageDataGenerator\n",
        "import os\n",
        "import random\n",
        "import cv2\n",
        "import pandas as pd"
      ]
    },
    {
      "cell_type": "code",
      "source": [
        "main_path = \"/content/drive/MyDrive/data/pneumoniadataset\"\n",
        "# Define the paths to the dataset folders\n",
        "train_dir = '/content/drive/MyDrive/data/pneumoniadataset/train'\n",
        "valid_dir = '/content/drive/MyDrive/data/pneumoniadataset/val'\n",
        "test_dir = '/content/drive/MyDrive/data/pneumoniadataset/test'\n",
        "\n",
        "# Checking if the path exists\n",
        "if os.path.exists(valid_dir):\n",
        "    print(\"Path exists\")\n",
        "else:\n",
        "    print(\"Path does not exist\")"
      ],
      "metadata": {
        "colab": {
          "base_uri": "https://localhost:8080/"
        },
        "id": "41gPH29Isf_o",
        "outputId": "b4347539-e5e0-462d-f88f-44e9acf5f1f0"
      },
      "execution_count": 3,
      "outputs": [
        {
          "output_type": "stream",
          "name": "stdout",
          "text": [
            "Path exists\n"
          ]
        }
      ]
    },
    {
      "cell_type": "code",
      "source": [
        "def preprocess_data(directory, target_size, batch_size):\n",
        "    \"\"\"\n",
        "    Preprocesses the data by applying normalization and augmentation.\n",
        "    Data cleaning is not required as dataset is well prepared and properly labelled.\n",
        "\n",
        "    Augmentation : to improve the model's performance , Normalization : model convergence\n",
        "    Data augmentation techniques used : shear transformations, zoom transformations, and horizontal flipping\n",
        "\n",
        "    Args:\n",
        "        directory (str): Path to the dataset directory.\n",
        "        target_size (tuple): Target size for resizing the images.\n",
        "        batch_size (int): Batch size for loading the images.\n",
        "\n",
        "    Returns:\n",
        "        Preprocessed data generator.\n",
        "    \"\"\"\n",
        "    # Normalize pixel values to [0, 1] for model convergence\n",
        "    # Apply random shear & zoom transformations and Flip images horizontally\n",
        "\n",
        "    data_gen = ImageDataGenerator(rescale=1./255,shear_range=0.3,zoom_range=0.3,horizontal_flip=False)\n",
        "    data = data_gen.flow_from_directory(directory,target_size=target_size,batch_size=batch_size,class_mode='binary')\n",
        "    return data"
      ],
      "metadata": {
        "id": "Wpi67ny7s-bi"
      },
      "execution_count": 4,
      "outputs": []
    },
    {
      "cell_type": "code",
      "source": [
        "# Set the parameters for data preprocessing and augmentation\n",
        "image_size = (224, 224)  # Reshape the images to this size\n",
        "batch_size = 32\n",
        "\n",
        "print(\"\\npreprocessing of training data\")\n",
        "# Preprocess the training data\n",
        "train_data = preprocess_data(train_dir, image_size, batch_size)\n",
        "\n",
        "print(\"\\npreprocessing of validation data\")\n",
        "# Preprocess the validation data\n",
        "valid_data = preprocess_data(valid_dir, image_size, batch_size)\n",
        "\n",
        "print(\"\\npreprocessing of test data\")\n",
        "# Preprocess the test data\n",
        "test_data = preprocess_data(test_dir, image_size, batch_size)"
      ],
      "metadata": {
        "colab": {
          "base_uri": "https://localhost:8080/"
        },
        "id": "h-I7GM3gtQ0p",
        "outputId": "6216170d-42a0-4ded-ae4e-9025088b23d4"
      },
      "execution_count": 5,
      "outputs": [
        {
          "output_type": "stream",
          "name": "stdout",
          "text": [
            "\n",
            "preprocessing of training data\n",
            "Found 5227 images belonging to 2 classes.\n",
            "\n",
            "preprocessing of validation data\n",
            "Found 16 images belonging to 2 classes.\n",
            "\n",
            "preprocessing of test data\n",
            "Found 624 images belonging to 2 classes.\n"
          ]
        }
      ]
    },
    {
      "cell_type": "code",
      "source": [
        "classnames = list(train_data.class_indices.keys())\n",
        "print(\"classnames : \", classnames)\n",
        "\n",
        "# Get the number of images in the train data\n",
        "tr_count = train_data.n\n",
        "print(\"Number of Images : \", tr_count)\n",
        "\n",
        "#retrieving the image width, height and number of channels respectively\n",
        "img_width, img_height, channels = train_data.image_shape\n",
        "print(f\"width : {img_width} \\nheight :  {img_height} \\nchannels : {channels}\")\n",
        "\n",
        "#copying\n",
        "i_width,i_height,i_channels = img_width,img_height,channels\n",
        "\n",
        "#retrieving number of classes\n",
        "classes_count=train_data.num_classes\n",
        "print(\"number of classes : \",classes_count)\n",
        "\n",
        "class_labels = train_data.classes\n",
        "print(\"Class labels:\", class_labels)\n",
        "\n",
        "#count number of samples in each class\n",
        "class_counts = np.bincount(class_labels)\n",
        "for class_name, num_samples in zip(classnames, class_counts):\n",
        "    print(f\"{class_name}: {num_samples}\")"
      ],
      "metadata": {
        "colab": {
          "base_uri": "https://localhost:8080/"
        },
        "id": "aFk5dRk9tcws",
        "outputId": "c3b7d14f-f0de-417f-bf9c-c29b0b428c8a"
      },
      "execution_count": 6,
      "outputs": [
        {
          "output_type": "stream",
          "name": "stdout",
          "text": [
            "classnames :  ['NORMAL', 'PNEUMONIA']\n",
            "Number of Images :  5227\n",
            "width : 224 \n",
            "height :  224 \n",
            "channels : 3\n",
            "number of classes :  2\n",
            "Class labels: [0 0 0 ... 1 1 1]\n",
            "NORMAL: 1342\n",
            "PNEUMONIA: 3885\n"
          ]
        }
      ]
    },
    {
      "cell_type": "code",
      "source": [
        "import tensorflow as tf\n",
        "from tensorflow.keras import layers\n",
        "from tensorflow.keras.callbacks import EarlyStopping\n",
        "\n",
        "\n",
        "# Define the CNN model\n",
        "\n",
        "model = tf.keras.Sequential([\n",
        "    layers.Conv2D(32, (3, 3), activation='relu', input_shape=(img_width, img_height, channels)),\n",
        "    layers.MaxPooling2D((2, 2)),\n",
        "    layers.Conv2D(64, (3, 3), activation='relu'),\n",
        "    layers.MaxPooling2D((2, 2)),\n",
        "    layers.Conv2D(128, (3, 3), activation='relu'),\n",
        "    layers.MaxPooling2D((2, 2)),\n",
        "    layers.Flatten(),\n",
        "    layers.Dense(128, activation='relu'),\n",
        "    layers.Dense(classes_count, activation='softmax') #the number of output units based on the number of classes\n",
        "])\n",
        "\n",
        "# Compile the model\n",
        "model.compile(optimizer='adam',loss='sparse_categorical_crossentropy',metrics=['accuracy'])\n",
        "\n",
        "# Define early stopping\n",
        "early_stopping = EarlyStopping(patience=5, monitor='val_loss', restore_best_weights=True)\n",
        "\n",
        "# Training of the model with early stopping\n",
        "model.fit(train_data, epochs=30, validation_data=valid_data, callbacks=[early_stopping])\n",
        "\n",
        "# Training of the model\n",
        "#model.fit(train_data, epochs=30, validation_data=valid_data)"
      ],
      "metadata": {
        "colab": {
          "base_uri": "https://localhost:8080/"
        },
        "id": "-LXAggLXtrFP",
        "outputId": "0f91a4b2-2ae7-40e4-f919-5451474792ef"
      },
      "execution_count": null,
      "outputs": [
        {
          "output_type": "stream",
          "name": "stdout",
          "text": [
            "Epoch 1/30\n",
            " 69/164 [===========>..................] - ETA: 11:06 - loss: 0.5593 - accuracy: 0.7871"
          ]
        }
      ]
    }
  ]
}